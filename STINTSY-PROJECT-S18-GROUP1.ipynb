{
 "cells": [
  {
   "cell_type": "markdown",
   "metadata": {},
   "source": [
    "Name of Members: "
   ]
  },
  {
   "cell_type": "markdown",
   "metadata": {},
   "source": [
    "- __LATOSA, JOSE ROMULO NORIEGA__\n",
    "- __RAMIREZ, BENMAR SIM GREFALDA__\n",
    "- __VICTORIA, ALFRED EUGENE TAGLE__"
   ]
  },
  {
   "cell_type": "markdown",
   "metadata": {},
   "source": [
    "## I. Introduction"
   ]
  },
  {
   "cell_type": "markdown",
   "metadata": {},
   "source": [
    "League of Legends (LOL), is a MOBA (Multiplayer Online Battle Arena) that's been around since 2009 is one of the most played games globally. \n",
    "\n",
    "The dataset we chose for this machine project, is the LOL Worlds 2021 Play-In Group Stats.\n",
    "\n",
    "For the project we will go through the process of selecting and defining our chosen dataset, performing Exploratory Data Analysis (EDA), data preprocessing and cleaning, model training, HP tuning, model selection and insight extraction.\n",
    "\n",
    "Our goal is to use the data from the LOL World's 2021 matches to predict the win/loss ratio of the teams and what role is the most important in terms of winning, based on the feature-engineered role performance metrics of the players.\n",
    "\n",
    "We'll be utilizing machine learning and other techniques discussed in class to build up our predictive model."
   ]
  },
  {
   "cell_type": "markdown",
   "metadata": {},
   "source": [
    "## II. Description"
   ]
  },
  {
   "cell_type": "markdown",
   "metadata": {},
   "source": [
    "The dataset has 220 instances (rows) and 20 features (columns). Each of the features are statistics of either the player or their team, aligned with their specific roles. As well as the gold earned, objectices taken and other important variables.\n",
    "\n",
    "The data is the game stats for all matches in the League of Legends Worlds 2021 Play-in Groups.\n",
    "\n",
    "The dataset stated it's collection process was done through lolesports.com, a website which shows all in-depth statistics available for each match, which allowed us to find correlations between in-game statistics and wins."
   ]
  },
  {
   "cell_type": "markdown",
   "metadata": {},
   "source": [
    "### List of Variables"
   ]
  },
  {
   "cell_type": "markdown",
   "metadata": {},
   "source": [
    "| **Variable Name** | **Description**|\n",
    "|--------------------------------------|----------------|\n",
    "|**Team** | Acronym Code of Team.|\n",
    "|**Player** | Nametag of Player.|\n",
    "|**Opponent** | Acronym code of opposing team in match.|\n",
    "|**Position**| Position played by player in a match, 5 unique variables.|\n",
    "|**Champion**| Champion played by a player in a match.|\n",
    "|**Kills**| Number of kills by player in a match.|\n",
    "|**Deaths**| Number of deaths by a player in a match.|\n",
    "|**Assists**| Number of assists by player in match.|\n",
    "|**Creep Score**| Number of minions and monsters killed by player in a match.|\n",
    "|**Gold Earned**| Gold earned by player in a match.|\n",
    "|**Champion Damage** | Percentage of total damage done by team to other champions done by player.|\n",
    "|**Kill Participation** | Percentage of team kills that player was part of.|\n",
    "|**Wards Placed** | Number of wards placed by player in match.|\n",
    "|**Wards Destroyed** | Number of wards killed by player in match.|\n",
    "|**Wards Interactions** | Sum of wards placed and wards killed by player in match.|\n",
    "|**Dragons For** | Number of dragons team killed in match.|\n",
    "|**Dragons Against** | Number of dragons opposing team killed in match.|\n",
    "|**Barons For** | Number of Barons killed in match.|\n",
    "|**Barons Against** | Number of Barons opposing team killed in match.|\n",
    "|**Win or Lose** | Win or Lose (W/L).|"
   ]
  },
  {
   "cell_type": "markdown",
   "metadata": {},
   "source": [
    "## III. Modules"
   ]
  },
  {
   "cell_type": "markdown",
   "metadata": {},
   "source": [
    "For this machine project, we will utilize the following Python libraries:"
   ]
  },
  {
   "cell_type": "code",
   "execution_count": 2,
   "metadata": {},
   "outputs": [
    {
     "ename": "ModuleNotFoundError",
     "evalue": "No module named 'pandas'",
     "output_type": "error",
     "traceback": [
      "\u001b[1;31m---------------------------------------------------------------------------\u001b[0m",
      "\u001b[1;31mModuleNotFoundError\u001b[0m                       Traceback (most recent call last)",
      "Cell \u001b[1;32mIn[2], line 1\u001b[0m\n\u001b[1;32m----> 1\u001b[0m \u001b[38;5;28;01mimport\u001b[39;00m \u001b[38;5;21;01mpandas\u001b[39;00m \u001b[38;5;28;01mas\u001b[39;00m \u001b[38;5;21;01mpd\u001b[39;00m\n\u001b[0;32m      2\u001b[0m \u001b[38;5;28;01mimport\u001b[39;00m \u001b[38;5;21;01mnumpy\u001b[39;00m \u001b[38;5;28;01mas\u001b[39;00m \u001b[38;5;21;01mnp\u001b[39;00m\n",
      "\u001b[1;31mModuleNotFoundError\u001b[0m: No module named 'pandas'"
     ]
    }
   ],
   "source": [
    "import pandas as pd\n",
    "import numpy as np"
   ]
  },
  {
   "cell_type": "markdown",
   "metadata": {},
   "source": [
    "## IV. Data Cleaning"
   ]
  },
  {
   "cell_type": "markdown",
   "metadata": {},
   "source": [
    "We are about to undertake various preprocessing and data cleaning methods to improve the dataset's usability and suitability for our exploratory analysis and model training. \n",
    "\n",
    "This process ensures the dataset is ready for use by addressing missing values, duplicates, outliers, and other errors, thereby representing the data accurately."
   ]
  },
  {
   "cell_type": "markdown",
   "metadata": {},
   "source": [
    "In the code block below, we will we importing and reading the League of Legends 2021 World Play-in Matches csv file."
   ]
  },
  {
   "cell_type": "code",
   "execution_count": null,
   "metadata": {},
   "outputs": [],
   "source": [
    "worlds = pd.read_csv(\"LOL2021WORLDS.csv\")\n",
    "worlds.head()"
   ]
  },
  {
   "cell_type": "markdown",
   "metadata": {},
   "source": [
    "**Checking for Missing Values**"
   ]
  },
  {
   "cell_type": "markdown",
   "metadata": {},
   "source": []
  },
  {
   "cell_type": "markdown",
   "metadata": {},
   "source": [
    "## Exploratory Data Analysis"
   ]
  },
  {
   "cell_type": "markdown",
   "metadata": {},
   "source": [
    "## Model Training"
   ]
  },
  {
   "cell_type": "markdown",
   "metadata": {},
   "source": [
    "## Improving Model"
   ]
  },
  {
   "cell_type": "markdown",
   "metadata": {},
   "source": [
    "## Model Selection"
   ]
  },
  {
   "cell_type": "markdown",
   "metadata": {},
   "source": [
    "## Insights and Conclusions"
   ]
  },
  {
   "cell_type": "markdown",
   "metadata": {},
   "source": [
    "## References"
   ]
  }
 ],
 "metadata": {
  "kernelspec": {
   "display_name": "Python 3",
   "language": "python",
   "name": "python3"
  },
  "language_info": {
   "codemirror_mode": {
    "name": "ipython",
    "version": 3
   },
   "file_extension": ".py",
   "mimetype": "text/x-python",
   "name": "python",
   "nbconvert_exporter": "python",
   "pygments_lexer": "ipython3",
   "version": "3.12.6"
  }
 },
 "nbformat": 4,
 "nbformat_minor": 2
}
